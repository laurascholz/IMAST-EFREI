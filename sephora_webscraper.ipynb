{
  "cells": [
    {
      "cell_type": "code",
      "execution_count": null,
      "metadata": {
        "id": "EWMCLxWbXkNz"
      },
      "outputs": [],
      "source": [
        "pip install requests"
      ]
    },
    {
      "cell_type": "code",
      "execution_count": null,
      "metadata": {
        "id": "ZdPK5hFqZG_v"
      },
      "outputs": [],
      "source": [
        "pip install BeautifulSoup"
      ]
    },
    {
      "cell_type": "code",
      "execution_count": null,
      "metadata": {
        "id": "APFhdvOyZIDs"
      },
      "outputs": [],
      "source": [
        "pip install BeautifulSoup"
      ]
    },
    {
      "cell_type": "code",
      "execution_count": 74,
      "metadata": {
        "colab": {
          "base_uri": "https://localhost:8080/"
        },
        "id": "RQeNu9x2PU9M",
        "outputId": "b226cc53-fd64-49b1-9011-d86c189696bf"
      },
      "outputs": [
        {
          "name": "stdout",
          "output_type": "stream",
          "text": [
            "id: 648810\n",
            "brand: YVES SAINT LAURENT\n",
            "name: Black Opium Le Parfum - Eau de Parfum Vaporisateur\n",
            "url: https://www.sephora.fr/p/black-opium-le-parfum---eau-de-parfum-vaporisateur-648810.html\n",
            "image: https://www.sephora.fr/dw/image/v2/BCVW_PRD/on/demandware.static/-/Sites-masterCatalog_Sephora/default/dwea467a02/images/hi-res/SKU/SKU_3723/648810_swatch.jpg?sw=240&sh=240&sm=fit\n",
            "\n",
            "id: 622173\n",
            "brand: BAOBAB COLLECTION\n",
            "name: My First Baobab Women - Giftbox\n",
            "url: https://www.sephora.fr/p/my-first-baobab-women---giftbox-622173.html\n",
            "image: https://www.sephora.fr/dw/image/v2/BCVW_PRD/on/demandware.static/-/Sites-masterCatalog_Sephora/default/dw9b34c2a4/images/hi-res/SKU/SKU_3375/622173_swatch.jpg?sw=240&sh=240&sm=fit\n",
            "\n",
            "id: 622171\n",
            "brand: BAOBAB COLLECTION\n",
            "name: My First Baobab Saint Tropez - Giftbox\n",
            "url: https://www.sephora.fr/p/my-first-baobab-saint-tropez---giftbox-622171.html\n",
            "image: https://www.sephora.fr/dw/image/v2/BCVW_PRD/on/demandware.static/-/Sites-masterCatalog_Sephora/default/dw0ad8ae6a/images/hi-res/SKU/SKU_3375/622171_swatch.jpg?sw=240&sh=240&sm=fit\n",
            "\n",
            "id: 622167\n",
            "brand: BAOBAB COLLECTION\n",
            "name: My First Baobab Paris - Giftbox\n",
            "url: https://www.sephora.fr/p/my-first-baobab-paris---giftbox-622167.html\n",
            "image: https://www.sephora.fr/dw/image/v2/BCVW_PRD/on/demandware.static/-/Sites-masterCatalog_Sephora/default/dw90f6ebbd/images/hi-res/SKU/SKU_3375/622167_swatch.jpg?sw=240&sh=240&sm=fit\n",
            "\n",
            "id: 622161\n",
            "brand: BAOBAB COLLECTION\n",
            "name: My First Baobab Manhattan - Giftbox\n",
            "url: https://www.sephora.fr/p/my-first-baobab-manhattan---giftbox-622161.html\n",
            "image: https://www.sephora.fr/dw/image/v2/BCVW_PRD/on/demandware.static/-/Sites-masterCatalog_Sephora/default/dw5015b787/images/hi-res/SKU/SKU_3375/622161_swatch.jpg?sw=240&sh=240&sm=fit\n",
            "\n",
            "id: 421405\n",
            "brand: DIOR\n",
            "name: Sauvage - Eau de parfum pour homme - Notes épicées & d'absolu vanille\n",
            "url: https://www.sephora.fr/p/sauvage---eau-de-parfum-421405.html\n",
            "image: https://www.sephora.fr/dw/image/v2/BCVW_PRD/on/demandware.static/-/Sites-masterCatalog_Sephora/default/dw6a368c04/images/hi-res/PID_principal/PID_principal_322/P3220029_principal.jpg?sw=240&sh=240&sm=fit\n",
            "\n",
            "id: 304708\n",
            "brand: CHANEL\n",
            "name: BLEU DE CHANEL - Eau De Parfum\n",
            "url: https://www.sephora.fr/p/bleu-de-chanel---eau-de-parfum-304708.html\n",
            "image: https://www.sephora.fr/dw/image/v2/BCVW_PRD/on/demandware.static/-/Sites-masterCatalog_Sephora/default/dwb467b9ee/images/hi-res/SKU/SKU_3/304708_swatch.jpg?sw=240&sh=240&sm=fit\n",
            "\n",
            "id: 71393\n",
            "brand: DIOR\n",
            "name: J'adore - Eau de parfum pour femme - Notes fleuries & fruitées\n",
            "url: https://www.sephora.fr/p/j-adore---eau-de-parfum-71393.html\n",
            "image: https://www.sephora.fr/dw/image/v2/BCVW_PRD/on/demandware.static/-/Sites-masterCatalog_Sephora/default/dw4d39833b/images/hi-res/SKU/SKU_6/71393_swatch.jpg?sw=240&sh=240&sm=fit\n",
            "\n",
            "id: 204012\n",
            "brand: CHANEL\n",
            "name: BLEU DE CHANEL - Eau De Toilette\n",
            "url: https://www.sephora.fr/p/bleu-de-chanel---eau-de-toilette-204012.html\n",
            "image: https://www.sephora.fr/dw/image/v2/BCVW_PRD/on/demandware.static/-/Sites-masterCatalog_Sephora/default/dw6662efc6/images/hi-res/SKU/SKU_1/204012_swatch.jpg?sw=240&sh=240&sm=fit\n",
            "\n",
            "id: 27264\n",
            "brand: JEAN PAUL GAULTIER\n",
            "name: Le Male - Eau de Toilette\n",
            "url: https://www.sephora.fr/p/le-male---eau-de-toilette-27264.html\n",
            "image: https://www.sephora.fr/dw/image/v2/BCVW_PRD/on/demandware.static/-/Sites-masterCatalog_Sephora/default/dwca068a9e/images/hi-res/SKU/SKU_1121/27264_swatch.jpg?sw=240&sh=240&sm=fit\n",
            "\n"
          ]
        }
      ],
      "source": [
        "from urllib.parse import urlencode\n",
        "import requests\n",
        "import requests_random_user_agent\n",
        "\n",
        "\n",
        "#request session with individual browser agent\n",
        "session = requests.Session()\n",
        "\n",
        "#Generating a searchstring that is injected into url\n",
        "searchstring = urlencode({'query' : 'parfum'})\n",
        "\n",
        "#Needed for request to the API\n",
        "#url to make post request to\n",
        "url = \"https://igcrdsruq7-dsn.algolia.net/1/indexes/*/queries?x-algolia-agent=Algolia%20for%20JavaScript%20(4.13.1)%3B%20Browser%3B%20instantsearch.js%20(4.49.0)%3B%20JS%20Helper%20(3.11.1)\"\n",
        "#header needed for API, otherwise error 400\n",
        "headers = {'x-algolia-api-key' : '79f5605125908b9b3dd46216f213de60', 'x-algolia-application-id': 'IGCRDSRUQ7'}\n",
        "#content as json\n",
        "json = {\"requests\":[{\"indexName\":\"production_eu02_sephora_demandware_net__Sephora_FR__products__fr_FR\",\"params\":\"clickAnalytics=false&distinct=true&facetingAfterDistinct=false&facets=%5B%22*%22%5D&highlightPostTag=__%2Fais-highlight__&highlightPreTag=__ais-highlight__&hitsPerPage=10&maxValuesPerFacet=200&page=0&\" + searchstring + \"&tagFilters=&analytics=false\"}]}\n",
        "\n",
        "\n",
        "#Make request to API and safe in r\n",
        "r = requests.post(url, headers=headers, json=json)\n",
        "\n",
        "#convert to json object\n",
        "result = r.json()\n",
        "\n",
        "#Get all hits from result\n",
        "hits = result[\"results\"][0][\"hits\"]\n",
        "\n",
        "#Get all products in hits\n",
        "for x in hits:\n",
        "  print(\"id: \"  +  x[\"id\"])\n",
        "  print(\"brand: \" + x[\"brand\"])\n",
        "  print(\"name: \" + x[\"name\"])\n",
        "  print(\"url: \" +  x[\"url\"])\n",
        "  print(\"image: \" + x[\"images\"][\"productTile\"][\"url\"])\n",
        "  print()"
      ]
    },
    {
      "cell_type": "markdown",
      "metadata": {
        "id": "ZhY1w-xIPWDP"
      },
      "source": [
        "Bei der Sephora Produktseite die Ingredients holen"
      ]
    },
    {
      "cell_type": "code",
      "execution_count": 72,
      "metadata": {
        "colab": {
          "base_uri": "https://localhost:8080/"
        },
        "id": "XyPVBT2WWQa9",
        "outputId": "ad925e87-ebcc-4b3a-ee00-2ffe611d795a"
      },
      "outputs": [
        {
          "name": "stdout",
          "output_type": "stream",
          "text": [
            "\n",
            "WATER/EAU/AQUA, SODIUM METHYL COCOYL TAURATE, COCAMIDOPROPYL HYDROXYSULTAINE, DECYL GLUCOSIDE, GLYCOL DISTEARATE, SODIUM LAUROYL LACTYLATE, SODIUM COCOYL GLYCINATE, MALTOOLIGOSYL GLUCOSIDE, LINOLEAMIDOPROPYL PG-DIMONIUM CHLORIDE PHOSPHATE, LAURYL/MYRISTYL POLYRICINOLEATE, BEHENYL ALCOHOL, LAURETH-23, SODIUM COCOYL ISETHIONATE, CETEARETH-60 MYRISTYL GLYCOL, CASSIA HYDROXYPROPYLTRIMONIUM CHLORIDE, HYDROGENATED STARCH HYDROLYSATE, FURCELLARIA LUMBRICALIS EXTRACT, POLYQUATERNIUM-47, PHYTANTRIOL, HYDROXYACETOPHENONE, PPG-2 HYDROXYETHYL COCAMIDE, LAURETH-4, PEG-150 PENTAERYTHRITYL TETRASTEARATE, TRISODIUM ETHYLENEDIAMINE DISUCCINATE, SODIUM BENZOATE, CITRIC ACID, FRAGRANCE/PARFUM, LINALOOL, HEXYL CINNAMAL, CITRONELLOL, LIMONENE.Cette liste d'ingrédients peut faire l'objet de modifications, veuillez consulter l'emballage du produit acheté.\n",
            "\n"
          ]
        }
      ],
      "source": [
        "import requests\n",
        "from bs4 import BeautifulSoup\n",
        "import requests_random_user_agent\n",
        "\n",
        "session = requests.Session()\n",
        "#print(session.headers['User-Agent'])\n",
        "\n",
        "r = session.get(\"https://www.sephora.fr/p/perfect-hair-day---shampooing-hydratant-587501.html\") \n",
        "\n",
        "soup = BeautifulSoup(r.content, 'html.parser')\n",
        "\n",
        "ingredients = soup.find(\"div\", class_ = \"ingredients-content\").text\n",
        "\n",
        "print(ingredients)\n",
        "\n",
        "\n",
        "\n",
        "\n",
        "\n",
        "\n",
        "\n",
        "\n"
      ]
    }
  ],
  "metadata": {
    "colab": {
      "provenance": []
    },
    "kernelspec": {
      "display_name": "env",
      "language": "python",
      "name": "python3"
    },
    "language_info": {
      "name": "python",
      "version": "3.11.1 (tags/v3.11.1:a7a450f, Dec  6 2022, 19:58:39) [MSC v.1934 64 bit (AMD64)]"
    },
    "vscode": {
      "interpreter": {
        "hash": "51362d72133317809ea1d39c20496c133dadabe2f35d303c4663bf5f5d9c0876"
      }
    }
  },
  "nbformat": 4,
  "nbformat_minor": 0
}
